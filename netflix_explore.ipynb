{
 "cells": [
  {
   "cell_type": "code",
   "execution_count": 30,
   "id": "efbe0bca-72f5-4a84-850d-432c1b1f4674",
   "metadata": {},
   "outputs": [],
   "source": [
    "# using sqlite3 for data exploration + visualization. pandas - for df\n",
    "import sqlite3\n",
    "import pandas as pd"
   ]
  },
  {
   "cell_type": "code",
   "execution_count": 31,
   "id": "59522b18-77dc-4c92-ac78-b9f0344acf6b",
   "metadata": {},
   "outputs": [
    {
     "name": "stdout",
     "output_type": "stream",
     "text": [
      "Requirement already satisfied: ipython-sql in c:\\users\\haykg\\appdata\\roaming\\python\\python313\\site-packages (0.5.0)\n",
      "Requirement already satisfied: prettytable in c:\\users\\haykg\\appdata\\roaming\\python\\python313\\site-packages (from ipython-sql) (3.16.0)\n",
      "Requirement already satisfied: ipython in c:\\users\\haykg\\appdata\\local\\programs\\python\\python313\\lib\\site-packages (from ipython-sql) (9.2.0)\n",
      "Requirement already satisfied: sqlalchemy>=2.0 in c:\\users\\haykg\\appdata\\roaming\\python\\python313\\site-packages (from ipython-sql) (2.0.41)\n",
      "Requirement already satisfied: sqlparse in c:\\users\\haykg\\appdata\\roaming\\python\\python313\\site-packages (from ipython-sql) (0.5.3)\n",
      "Requirement already satisfied: six in c:\\users\\haykg\\appdata\\local\\programs\\python\\python313\\lib\\site-packages (from ipython-sql) (1.17.0)\n",
      "Requirement already satisfied: ipython-genutils in c:\\users\\haykg\\appdata\\roaming\\python\\python313\\site-packages (from ipython-sql) (0.2.0)\n",
      "Requirement already satisfied: greenlet>=1 in c:\\users\\haykg\\appdata\\roaming\\python\\python313\\site-packages (from sqlalchemy>=2.0->ipython-sql) (3.2.3)\n",
      "Requirement already satisfied: typing-extensions>=4.6.0 in c:\\users\\haykg\\appdata\\local\\programs\\python\\python313\\lib\\site-packages (from sqlalchemy>=2.0->ipython-sql) (4.13.2)\n",
      "Requirement already satisfied: colorama in c:\\users\\haykg\\appdata\\local\\programs\\python\\python313\\lib\\site-packages (from ipython->ipython-sql) (0.4.6)\n",
      "Requirement already satisfied: decorator in c:\\users\\haykg\\appdata\\local\\programs\\python\\python313\\lib\\site-packages (from ipython->ipython-sql) (5.2.1)\n",
      "Requirement already satisfied: ipython-pygments-lexers in c:\\users\\haykg\\appdata\\local\\programs\\python\\python313\\lib\\site-packages (from ipython->ipython-sql) (1.1.1)\n",
      "Requirement already satisfied: jedi>=0.16 in c:\\users\\haykg\\appdata\\local\\programs\\python\\python313\\lib\\site-packages (from ipython->ipython-sql) (0.19.2)\n",
      "Requirement already satisfied: matplotlib-inline in c:\\users\\haykg\\appdata\\local\\programs\\python\\python313\\lib\\site-packages (from ipython->ipython-sql) (0.1.7)\n",
      "Requirement already satisfied: prompt_toolkit<3.1.0,>=3.0.41 in c:\\users\\haykg\\appdata\\local\\programs\\python\\python313\\lib\\site-packages (from ipython->ipython-sql) (3.0.51)\n",
      "Requirement already satisfied: pygments>=2.4.0 in c:\\users\\haykg\\appdata\\local\\programs\\python\\python313\\lib\\site-packages (from ipython->ipython-sql) (2.19.1)\n",
      "Requirement already satisfied: stack_data in c:\\users\\haykg\\appdata\\local\\programs\\python\\python313\\lib\\site-packages (from ipython->ipython-sql) (0.6.3)\n",
      "Requirement already satisfied: traitlets>=5.13.0 in c:\\users\\haykg\\appdata\\local\\programs\\python\\python313\\lib\\site-packages (from ipython->ipython-sql) (5.14.3)\n",
      "Requirement already satisfied: wcwidth in c:\\users\\haykg\\appdata\\local\\programs\\python\\python313\\lib\\site-packages (from prompt_toolkit<3.1.0,>=3.0.41->ipython->ipython-sql) (0.2.13)\n",
      "Requirement already satisfied: parso<0.9.0,>=0.8.4 in c:\\users\\haykg\\appdata\\local\\programs\\python\\python313\\lib\\site-packages (from jedi>=0.16->ipython->ipython-sql) (0.8.4)\n",
      "Requirement already satisfied: executing>=1.2.0 in c:\\users\\haykg\\appdata\\local\\programs\\python\\python313\\lib\\site-packages (from stack_data->ipython->ipython-sql) (2.2.0)\n",
      "Requirement already satisfied: asttokens>=2.1.0 in c:\\users\\haykg\\appdata\\local\\programs\\python\\python313\\lib\\site-packages (from stack_data->ipython->ipython-sql) (3.0.0)\n",
      "Requirement already satisfied: pure-eval in c:\\users\\haykg\\appdata\\local\\programs\\python\\python313\\lib\\site-packages (from stack_data->ipython->ipython-sql) (0.2.3)\n"
     ]
    },
    {
     "name": "stderr",
     "output_type": "stream",
     "text": [
      "\n",
      "[notice] A new release of pip is available: 25.1.1 -> 25.2\n",
      "[notice] To update, run: python.exe -m pip install --upgrade pip\n"
     ]
    },
    {
     "name": "stdout",
     "output_type": "stream",
     "text": [
      "Requirement already satisfied: seaborn in c:\\users\\haykg\\appdata\\local\\programs\\python\\python313\\lib\\site-packages (0.13.2)\n",
      "Requirement already satisfied: numpy!=1.24.0,>=1.20 in c:\\users\\haykg\\appdata\\local\\programs\\python\\python313\\lib\\site-packages (from seaborn) (2.2.5)\n",
      "Requirement already satisfied: pandas>=1.2 in c:\\users\\haykg\\appdata\\local\\programs\\python\\python313\\lib\\site-packages (from seaborn) (2.2.3)\n",
      "Requirement already satisfied: matplotlib!=3.6.1,>=3.4 in c:\\users\\haykg\\appdata\\local\\programs\\python\\python313\\lib\\site-packages (from seaborn) (3.10.1)\n",
      "Requirement already satisfied: contourpy>=1.0.1 in c:\\users\\haykg\\appdata\\local\\programs\\python\\python313\\lib\\site-packages (from matplotlib!=3.6.1,>=3.4->seaborn) (1.3.2)\n",
      "Requirement already satisfied: cycler>=0.10 in c:\\users\\haykg\\appdata\\local\\programs\\python\\python313\\lib\\site-packages (from matplotlib!=3.6.1,>=3.4->seaborn) (0.12.1)\n",
      "Requirement already satisfied: fonttools>=4.22.0 in c:\\users\\haykg\\appdata\\local\\programs\\python\\python313\\lib\\site-packages (from matplotlib!=3.6.1,>=3.4->seaborn) (4.57.0)\n",
      "Requirement already satisfied: kiwisolver>=1.3.1 in c:\\users\\haykg\\appdata\\local\\programs\\python\\python313\\lib\\site-packages (from matplotlib!=3.6.1,>=3.4->seaborn) (1.4.8)\n",
      "Requirement already satisfied: packaging>=20.0 in c:\\users\\haykg\\appdata\\local\\programs\\python\\python313\\lib\\site-packages (from matplotlib!=3.6.1,>=3.4->seaborn) (25.0)\n",
      "Requirement already satisfied: pillow>=8 in c:\\users\\haykg\\appdata\\local\\programs\\python\\python313\\lib\\site-packages (from matplotlib!=3.6.1,>=3.4->seaborn) (11.2.1)\n",
      "Requirement already satisfied: pyparsing>=2.3.1 in c:\\users\\haykg\\appdata\\local\\programs\\python\\python313\\lib\\site-packages (from matplotlib!=3.6.1,>=3.4->seaborn) (3.2.3)\n",
      "Requirement already satisfied: python-dateutil>=2.7 in c:\\users\\haykg\\appdata\\local\\programs\\python\\python313\\lib\\site-packages (from matplotlib!=3.6.1,>=3.4->seaborn) (2.9.0.post0)\n",
      "Requirement already satisfied: pytz>=2020.1 in c:\\users\\haykg\\appdata\\local\\programs\\python\\python313\\lib\\site-packages (from pandas>=1.2->seaborn) (2025.2)\n",
      "Requirement already satisfied: tzdata>=2022.7 in c:\\users\\haykg\\appdata\\local\\programs\\python\\python313\\lib\\site-packages (from pandas>=1.2->seaborn) (2025.2)\n",
      "Requirement already satisfied: six>=1.5 in c:\\users\\haykg\\appdata\\local\\programs\\python\\python313\\lib\\site-packages (from python-dateutil>=2.7->matplotlib!=3.6.1,>=3.4->seaborn) (1.17.0)\n",
      "The sql extension is already loaded. To reload it, use:\n",
      "  %reload_ext sql\n"
     ]
    },
    {
     "name": "stderr",
     "output_type": "stream",
     "text": [
      "\n",
      "[notice] A new release of pip is available: 25.1.1 -> 25.2\n",
      "[notice] To update, run: python.exe -m pip install --upgrade pip\n"
     ]
    }
   ],
   "source": [
    "# ipython-sql for sql magic statements, matplotlib and seaborn for visualization \n",
    "!pip install ipython-sql\n",
    "!pip install seaborn \n",
    "import seaborn as sns\n",
    "%load_ext sql\n",
    "import matplotlib.pyplot as plt"
   ]
  },
  {
   "cell_type": "code",
   "execution_count": 32,
   "id": "37c0cd2b-e886-4051-99b6-fdfcfe48fb46",
   "metadata": {},
   "outputs": [],
   "source": [
    "# this either creates a new database or uses the existing one if it exists. it's done in thee current directory\n",
    "# here we make a new database - netflix.db\n",
    "conn = sqlite3.connect('netflix.db')\n",
    "cur = conn.cursor()"
   ]
  },
  {
   "cell_type": "code",
   "execution_count": 33,
   "id": "c16b63bd-f1d2-4c6b-865d-8cfa6f2a9d1c",
   "metadata": {},
   "outputs": [
    {
     "data": {
      "text/plain": [
       "'C:\\\\Users\\\\haykg\\\\Documents\\\\github\\\\Data-cleaning'"
      ]
     },
     "execution_count": 33,
     "metadata": {},
     "output_type": "execute_result"
    }
   ],
   "source": [
    "# check the current directory. That's where the database is stored\n",
    "%pwd"
   ]
  },
  {
   "cell_type": "code",
   "execution_count": 34,
   "id": "204420eb-c4a4-4f23-8750-0f064a3a7a1a",
   "metadata": {},
   "outputs": [],
   "source": [
    "# this is to be able to use the netflix database with magic sql commands\n",
    "%sql sqlite:///netflix.db"
   ]
  },
  {
   "cell_type": "code",
   "execution_count": 39,
   "id": "254a7131-2159-4e6c-93fc-1d6976ecd8d2",
   "metadata": {},
   "outputs": [],
   "source": [
    "df = pd.read_csv('netflix_titles.csv')"
   ]
  },
  {
   "cell_type": "code",
   "execution_count": 43,
   "id": "78045679-61d4-4850-939a-e298f091e582",
   "metadata": {},
   "outputs": [
    {
     "data": {
      "text/plain": [
       "(8807, 12)"
      ]
     },
     "execution_count": 43,
     "metadata": {},
     "output_type": "execute_result"
    }
   ],
   "source": [
    "# rows and columns of the dataframe\n",
    "df.shape"
   ]
  },
  {
   "cell_type": "code",
   "execution_count": 41,
   "id": "078528ec-a6f0-4f22-84e0-717475e08a98",
   "metadata": {
    "scrolled": true
   },
   "outputs": [
    {
     "data": {
      "text/plain": [
       "8807"
      ]
     },
     "execution_count": 41,
     "metadata": {},
     "output_type": "execute_result"
    }
   ],
   "source": [
    "# pandas method that takes the pandas DataFrame df and writes it into my SQL database and names Chicago_socioeconomic_data.\n",
    "# index = FALSE says **Do not write the DataFrame’s index** as a column in the SQL table. By default, `to_sql` will create \n",
    "# a column for the DataFrame’s index; setting `index=False` skips that.\n",
    "# method = \"multi\" will allow to insert several rows simultaneously. Otherwise it would just be one row at a time.\n",
    "df.to_sql(\"netflix_raw\", conn, if_exists=\"replace\", index= \"False\")"
   ]
  },
  {
   "cell_type": "code",
   "execution_count": 44,
   "id": "380f0d6f-e4b6-444d-82d9-ced1f07ac29d",
   "metadata": {},
   "outputs": [
    {
     "name": "stdout",
     "output_type": "stream",
     "text": [
      "Requirement already satisfied: ipython-sql in c:\\users\\haykg\\appdata\\roaming\\python\\python313\\site-packages (0.5.0)\n",
      "Requirement already satisfied: prettytable in c:\\users\\haykg\\appdata\\roaming\\python\\python313\\site-packages (3.16.0)\n",
      "Requirement already satisfied: ipython in c:\\users\\haykg\\appdata\\local\\programs\\python\\python313\\lib\\site-packages (from ipython-sql) (9.2.0)\n",
      "Requirement already satisfied: sqlalchemy>=2.0 in c:\\users\\haykg\\appdata\\roaming\\python\\python313\\site-packages (from ipython-sql) (2.0.41)\n",
      "Requirement already satisfied: sqlparse in c:\\users\\haykg\\appdata\\roaming\\python\\python313\\site-packages (from ipython-sql) (0.5.3)\n",
      "Requirement already satisfied: six in c:\\users\\haykg\\appdata\\local\\programs\\python\\python313\\lib\\site-packages (from ipython-sql) (1.17.0)\n",
      "Requirement already satisfied: ipython-genutils in c:\\users\\haykg\\appdata\\roaming\\python\\python313\\site-packages (from ipython-sql) (0.2.0)\n",
      "Requirement already satisfied: wcwidth in c:\\users\\haykg\\appdata\\local\\programs\\python\\python313\\lib\\site-packages (from prettytable) (0.2.13)\n",
      "Requirement already satisfied: greenlet>=1 in c:\\users\\haykg\\appdata\\roaming\\python\\python313\\site-packages (from sqlalchemy>=2.0->ipython-sql) (3.2.3)\n",
      "Requirement already satisfied: typing-extensions>=4.6.0 in c:\\users\\haykg\\appdata\\local\\programs\\python\\python313\\lib\\site-packages (from sqlalchemy>=2.0->ipython-sql) (4.13.2)\n",
      "Requirement already satisfied: colorama in c:\\users\\haykg\\appdata\\local\\programs\\python\\python313\\lib\\site-packages (from ipython->ipython-sql) (0.4.6)\n",
      "Requirement already satisfied: decorator in c:\\users\\haykg\\appdata\\local\\programs\\python\\python313\\lib\\site-packages (from ipython->ipython-sql) (5.2.1)\n",
      "Requirement already satisfied: ipython-pygments-lexers in c:\\users\\haykg\\appdata\\local\\programs\\python\\python313\\lib\\site-packages (from ipython->ipython-sql) (1.1.1)\n",
      "Requirement already satisfied: jedi>=0.16 in c:\\users\\haykg\\appdata\\local\\programs\\python\\python313\\lib\\site-packages (from ipython->ipython-sql) (0.19.2)\n",
      "Requirement already satisfied: matplotlib-inline in c:\\users\\haykg\\appdata\\local\\programs\\python\\python313\\lib\\site-packages (from ipython->ipython-sql) (0.1.7)\n",
      "Requirement already satisfied: prompt_toolkit<3.1.0,>=3.0.41 in c:\\users\\haykg\\appdata\\local\\programs\\python\\python313\\lib\\site-packages (from ipython->ipython-sql) (3.0.51)\n",
      "Requirement already satisfied: pygments>=2.4.0 in c:\\users\\haykg\\appdata\\local\\programs\\python\\python313\\lib\\site-packages (from ipython->ipython-sql) (2.19.1)\n",
      "Requirement already satisfied: stack_data in c:\\users\\haykg\\appdata\\local\\programs\\python\\python313\\lib\\site-packages (from ipython->ipython-sql) (0.6.3)\n",
      "Requirement already satisfied: traitlets>=5.13.0 in c:\\users\\haykg\\appdata\\local\\programs\\python\\python313\\lib\\site-packages (from ipython->ipython-sql) (5.14.3)\n",
      "Requirement already satisfied: parso<0.9.0,>=0.8.4 in c:\\users\\haykg\\appdata\\local\\programs\\python\\python313\\lib\\site-packages (from jedi>=0.16->ipython->ipython-sql) (0.8.4)\n",
      "Requirement already satisfied: executing>=1.2.0 in c:\\users\\haykg\\appdata\\local\\programs\\python\\python313\\lib\\site-packages (from stack_data->ipython->ipython-sql) (2.2.0)\n",
      "Requirement already satisfied: asttokens>=2.1.0 in c:\\users\\haykg\\appdata\\local\\programs\\python\\python313\\lib\\site-packages (from stack_data->ipython->ipython-sql) (3.0.0)\n",
      "Requirement already satisfied: pure-eval in c:\\users\\haykg\\appdata\\local\\programs\\python\\python313\\lib\\site-packages (from stack_data->ipython->ipython-sql) (0.2.3)\n"
     ]
    },
    {
     "name": "stderr",
     "output_type": "stream",
     "text": [
      "\n",
      "[notice] A new release of pip is available: 25.1.1 -> 25.2\n",
      "[notice] To update, run: python.exe -m pip install --upgrade pip\n"
     ]
    }
   ],
   "source": [
    "# For below you can also\n",
    "# Install the 'ipython-sql' and 'prettytable' libraries using pip\n",
    "!pip install ipython-sql prettytable\n",
    "\n",
    "# Import the 'prettytable' library, which is used to display data in a formatted table\n",
    "import prettytable\n",
    "\n",
    "# Set the default display format for prettytable to 'DEFAULT' (i.e., a simple table format)\n",
    "prettytable.DEFAULT = 'DEFAULT'"
   ]
  },
  {
   "cell_type": "code",
   "execution_count": 69,
   "id": "45cd03b9-277b-4209-bd51-3e09cbbeb2ce",
   "metadata": {},
   "outputs": [
    {
     "name": "stdout",
     "output_type": "stream",
     "text": [
      " * sqlite:///netflix.db\n",
      "Done.\n"
     ]
    },
    {
     "data": {
      "text/html": [
       "<table>\n",
       "    <thead>\n",
       "        <tr>\n",
       "            <th>show_id</th>\n",
       "            <th>type</th>\n",
       "            <th>title</th>\n",
       "            <th>director</th>\n",
       "            <th>cast</th>\n",
       "            <th>country</th>\n",
       "            <th>date_added</th>\n",
       "            <th>release_year</th>\n",
       "            <th>rating</th>\n",
       "            <th>duration</th>\n",
       "            <th>listed_in</th>\n",
       "            <th>description</th>\n",
       "        </tr>\n",
       "    </thead>\n",
       "    <tbody>\n",
       "        <tr>\n",
       "            <td>s1</td>\n",
       "            <td>Movie</td>\n",
       "            <td>Dick Johnson Is Dead</td>\n",
       "            <td>Kirsten Johnson</td>\n",
       "            <td>None</td>\n",
       "            <td>United States</td>\n",
       "            <td>September 25, 2021</td>\n",
       "            <td>2020</td>\n",
       "            <td>PG-13</td>\n",
       "            <td>90 min</td>\n",
       "            <td>Documentaries</td>\n",
       "            <td>As her father nears the end of his life, filmmaker Kirsten Johnson stages his death in inventive and comical ways to help them both face the inevitable.</td>\n",
       "        </tr>\n",
       "        <tr>\n",
       "            <td>s2</td>\n",
       "            <td>TV Show</td>\n",
       "            <td>Blood &amp; Water</td>\n",
       "            <td>None</td>\n",
       "            <td>Ama Qamata, Khosi Ngema, Gail Mabalane, Thabang Molaba, Dillon Windvogel, Natasha Thahane, Arno Greeff, Xolile Tshabalala, Getmore Sithole, Cindy Mahlangu, Ryle De Morny, Greteli Fincham, Sello Maake Ka-Ncube, Odwa Gwanya, Mekaila Mathys, Sandi Schultz, Duane Williams, Shamilla Miller, Patrick Mofokeng</td>\n",
       "            <td>South Africa</td>\n",
       "            <td>September 24, 2021</td>\n",
       "            <td>2021</td>\n",
       "            <td>TV-MA</td>\n",
       "            <td>2 Seasons</td>\n",
       "            <td>International TV Shows, TV Dramas, TV Mysteries</td>\n",
       "            <td>After crossing paths at a party, a Cape Town teen sets out to prove whether a private-school swimming star is her sister who was abducted at birth.</td>\n",
       "        </tr>\n",
       "    </tbody>\n",
       "</table>"
      ],
      "text/plain": [
       "[('s1', 'Movie', 'Dick Johnson Is Dead', 'Kirsten Johnson', None, 'United States', 'September 25, 2021', 2020, 'PG-13', '90 min', 'Documentaries', 'As her father nears the end of his life, filmmaker Kirsten Johnson stages his death in inventive and comical ways to help them both face the inevitable.'),\n",
       " ('s2', 'TV Show', 'Blood & Water', None, 'Ama Qamata, Khosi Ngema, Gail Mabalane, Thabang Molaba, Dillon Windvogel, Natasha Thahane, Arno Greeff, Xolile Tshabalala, Getmore Sithole, Cindy Mah ... (5 characters truncated) ... , Ryle De Morny, Greteli Fincham, Sello Maake Ka-Ncube, Odwa Gwanya, Mekaila Mathys, Sandi Schultz, Duane Williams, Shamilla Miller, Patrick Mofokeng', 'South Africa', 'September 24, 2021', 2021, 'TV-MA', '2 Seasons', 'International TV Shows, TV Dramas, TV Mysteries', 'After crossing paths at a party, a Cape Town teen sets out to prove whether a private-school swimming star is her sister who was abducted at birth.')]"
      ]
     },
     "execution_count": 69,
     "metadata": {},
     "output_type": "execute_result"
    }
   ],
   "source": [
    "%sql select * from netflix_raw limit 2"
   ]
  },
  {
   "cell_type": "code",
   "execution_count": 49,
   "id": "de78a4b2-1dd0-443e-86a4-b6eeff8165b7",
   "metadata": {},
   "outputs": [
    {
     "name": "stdout",
     "output_type": "stream",
     "text": [
      " * sqlite:///netflix.db\n",
      "Done.\n"
     ]
    },
    {
     "data": {
      "text/html": [
       "<table>\n",
       "    <thead>\n",
       "        <tr>\n",
       "            <th>cid</th>\n",
       "            <th>name</th>\n",
       "            <th>type</th>\n",
       "            <th>notnull</th>\n",
       "            <th>dflt_value</th>\n",
       "            <th>pk</th>\n",
       "        </tr>\n",
       "    </thead>\n",
       "    <tbody>\n",
       "        <tr>\n",
       "            <td>0</td>\n",
       "            <td>False</td>\n",
       "            <td>INTEGER</td>\n",
       "            <td>0</td>\n",
       "            <td>None</td>\n",
       "            <td>0</td>\n",
       "        </tr>\n",
       "        <tr>\n",
       "            <td>1</td>\n",
       "            <td>show_id</td>\n",
       "            <td>TEXT</td>\n",
       "            <td>0</td>\n",
       "            <td>None</td>\n",
       "            <td>0</td>\n",
       "        </tr>\n",
       "        <tr>\n",
       "            <td>2</td>\n",
       "            <td>type</td>\n",
       "            <td>TEXT</td>\n",
       "            <td>0</td>\n",
       "            <td>None</td>\n",
       "            <td>0</td>\n",
       "        </tr>\n",
       "        <tr>\n",
       "            <td>3</td>\n",
       "            <td>title</td>\n",
       "            <td>TEXT</td>\n",
       "            <td>0</td>\n",
       "            <td>None</td>\n",
       "            <td>0</td>\n",
       "        </tr>\n",
       "        <tr>\n",
       "            <td>4</td>\n",
       "            <td>director</td>\n",
       "            <td>TEXT</td>\n",
       "            <td>0</td>\n",
       "            <td>None</td>\n",
       "            <td>0</td>\n",
       "        </tr>\n",
       "        <tr>\n",
       "            <td>5</td>\n",
       "            <td>cast</td>\n",
       "            <td>TEXT</td>\n",
       "            <td>0</td>\n",
       "            <td>None</td>\n",
       "            <td>0</td>\n",
       "        </tr>\n",
       "        <tr>\n",
       "            <td>6</td>\n",
       "            <td>country</td>\n",
       "            <td>TEXT</td>\n",
       "            <td>0</td>\n",
       "            <td>None</td>\n",
       "            <td>0</td>\n",
       "        </tr>\n",
       "        <tr>\n",
       "            <td>7</td>\n",
       "            <td>date_added</td>\n",
       "            <td>TEXT</td>\n",
       "            <td>0</td>\n",
       "            <td>None</td>\n",
       "            <td>0</td>\n",
       "        </tr>\n",
       "        <tr>\n",
       "            <td>8</td>\n",
       "            <td>release_year</td>\n",
       "            <td>INTEGER</td>\n",
       "            <td>0</td>\n",
       "            <td>None</td>\n",
       "            <td>0</td>\n",
       "        </tr>\n",
       "        <tr>\n",
       "            <td>9</td>\n",
       "            <td>rating</td>\n",
       "            <td>TEXT</td>\n",
       "            <td>0</td>\n",
       "            <td>None</td>\n",
       "            <td>0</td>\n",
       "        </tr>\n",
       "        <tr>\n",
       "            <td>10</td>\n",
       "            <td>duration</td>\n",
       "            <td>TEXT</td>\n",
       "            <td>0</td>\n",
       "            <td>None</td>\n",
       "            <td>0</td>\n",
       "        </tr>\n",
       "        <tr>\n",
       "            <td>11</td>\n",
       "            <td>listed_in</td>\n",
       "            <td>TEXT</td>\n",
       "            <td>0</td>\n",
       "            <td>None</td>\n",
       "            <td>0</td>\n",
       "        </tr>\n",
       "        <tr>\n",
       "            <td>12</td>\n",
       "            <td>description</td>\n",
       "            <td>TEXT</td>\n",
       "            <td>0</td>\n",
       "            <td>None</td>\n",
       "            <td>0</td>\n",
       "        </tr>\n",
       "    </tbody>\n",
       "</table>"
      ],
      "text/plain": [
       "[(0, 'False', 'INTEGER', 0, None, 0),\n",
       " (1, 'show_id', 'TEXT', 0, None, 0),\n",
       " (2, 'type', 'TEXT', 0, None, 0),\n",
       " (3, 'title', 'TEXT', 0, None, 0),\n",
       " (4, 'director', 'TEXT', 0, None, 0),\n",
       " (5, 'cast', 'TEXT', 0, None, 0),\n",
       " (6, 'country', 'TEXT', 0, None, 0),\n",
       " (7, 'date_added', 'TEXT', 0, None, 0),\n",
       " (8, 'release_year', 'INTEGER', 0, None, 0),\n",
       " (9, 'rating', 'TEXT', 0, None, 0),\n",
       " (10, 'duration', 'TEXT', 0, None, 0),\n",
       " (11, 'listed_in', 'TEXT', 0, None, 0),\n",
       " (12, 'description', 'TEXT', 0, None, 0)]"
      ]
     },
     "execution_count": 49,
     "metadata": {},
     "output_type": "execute_result"
    }
   ],
   "source": [
    "# checking the promary keys. We find there are no primary keys - so I will delete the useless \"False\" column and make show_id the main one.\n",
    "%sql PRAGMA table_info(netflix_raw)"
   ]
  },
  {
   "cell_type": "code",
   "execution_count": 70,
   "id": "9fcbbc35-5c35-44ac-96da-edd0558b5a1d",
   "metadata": {},
   "outputs": [
    {
     "name": "stdout",
     "output_type": "stream",
     "text": [
      " * sqlite:///netflix.db\n",
      "Done.\n"
     ]
    },
    {
     "data": {
      "text/plain": [
       "[]"
      ]
     },
     "execution_count": 70,
     "metadata": {},
     "output_type": "execute_result"
    }
   ],
   "source": [
    "#drop the index that references the column \"False\" (check this out)\n",
    "%sql DROP INDEX IF EXISTS \"ix_netflix_raw_False\";\n",
    "\n",
    "# then drop the column\n",
    "ALTER TABLE netflix_raw DROP COLUMN \"False\";"
   ]
  },
  {
   "cell_type": "code",
   "execution_count": 71,
   "id": "5b440ca8-426f-45ab-a479-d8acd9949d2a",
   "metadata": {},
   "outputs": [
    {
     "name": "stdout",
     "output_type": "stream",
     "text": [
      " * sqlite:///netflix.db\n",
      "(sqlite3.OperationalError) no such column: \"False\"\n",
      "[SQL: ALTER TABLE netflix_raw DROP COLUMN False ;]\n",
      "(Background on this error at: https://sqlalche.me/e/20/e3q8)\n"
     ]
    }
   ],
   "source": [
    "%sql ALTER TABLE netflix_raw DROP COLUMN \"False\";"
   ]
  },
  {
   "cell_type": "code",
   "execution_count": null,
   "id": "de16b511-b54c-4a26-b0f9-db47ea998a2f",
   "metadata": {},
   "outputs": [],
   "source": []
  }
 ],
 "metadata": {
  "kernelspec": {
   "display_name": "Python 3 (ipykernel)",
   "language": "python",
   "name": "python3"
  },
  "language_info": {
   "codemirror_mode": {
    "name": "ipython",
    "version": 3
   },
   "file_extension": ".py",
   "mimetype": "text/x-python",
   "name": "python",
   "nbconvert_exporter": "python",
   "pygments_lexer": "ipython3",
   "version": "3.13.3"
  }
 },
 "nbformat": 4,
 "nbformat_minor": 5
}
